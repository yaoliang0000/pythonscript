{
 "cells": [
  {
   "cell_type": "code",
   "execution_count": 31,
   "metadata": {
    "collapsed": false
   },
   "outputs": [
    {
     "name": "stdout",
     "output_type": "stream",
     "text": [
      "11.2.0.4.0\n",
      "待入库数据日期：20170920\n",
      "执行 =====>   s1msglatency_2017092000@do_dblink1 t\n",
      "执行 =====>   s1msglatency_2017092000@do_dblink2 t\n",
      "执行 =====>   s1msglatency_2017092001@do_dblink1 t\n",
      "执行 =====>   s1msglatency_2017092001@do_dblink2 t\n",
      "执行 =====>   s1msglatency_2017092002@do_dblink1 t\n",
      "执行 =====>   s1msglatency_2017092002@do_dblink2 t\n",
      "执行 =====>   s1msglatency_2017092003@do_dblink1 t\n",
      "执行 =====>   s1msglatency_2017092003@do_dblink2 t\n",
      "执行 =====>   s1msglatency_2017092004@do_dblink1 t\n",
      "执行 =====>   s1msglatency_2017092004@do_dblink2 t\n",
      "执行 =====>   s1msglatency_2017092005@do_dblink1 t\n",
      "执行 =====>   s1msglatency_2017092005@do_dblink2 t\n",
      "执行 =====>   s1msglatency_2017092006@do_dblink1 t\n",
      "执行 =====>   s1msglatency_2017092006@do_dblink2 t\n",
      "执行 =====>   s1msglatency_2017092007@do_dblink1 t\n",
      "执行 =====>   s1msglatency_2017092007@do_dblink2 t\n",
      "执行 =====>   s1msglatency_2017092008@do_dblink1 t\n",
      "执行 =====>   s1msglatency_2017092008@do_dblink2 t\n",
      "执行 =====>   s1msglatency_2017092009@do_dblink1 t\n",
      "执行 =====>   s1msglatency_2017092009@do_dblink2 t\n",
      "执行 =====>   s1msglatency_2017092010@do_dblink1 t\n",
      "执行 =====>   s1msglatency_2017092010@do_dblink2 t\n",
      "执行 =====>   s1msglatency_2017092011@do_dblink1 t\n",
      "执行 =====>   s1msglatency_2017092011@do_dblink2 t\n",
      "执行 =====>   s1msglatency_2017092012@do_dblink1 t\n",
      "执行 =====>   s1msglatency_2017092012@do_dblink2 t\n",
      "执行 =====>   s1msglatency_2017092013@do_dblink1 t\n",
      "执行 =====>   s1msglatency_2017092013@do_dblink2 t\n",
      "执行 =====>   s1msglatency_2017092014@do_dblink1 t\n",
      "执行 =====>   s1msglatency_2017092014@do_dblink2 t\n",
      "执行 =====>   s1msglatency_2017092015@do_dblink1 t\n",
      "执行 =====>   s1msglatency_2017092015@do_dblink2 t\n",
      "执行 =====>   s1msglatency_2017092016@do_dblink1 t\n",
      "执行 =====>   s1msglatency_2017092016@do_dblink2 t\n",
      "执行 =====>   s1msglatency_2017092017@do_dblink1 t\n",
      "执行 =====>   s1msglatency_2017092017@do_dblink2 t\n",
      "执行 =====>   s1msglatency_2017092018@do_dblink1 t\n",
      "执行 =====>   s1msglatency_2017092018@do_dblink2 t\n",
      "执行 =====>   s1msglatency_2017092019@do_dblink1 t\n",
      "执行 =====>   s1msglatency_2017092019@do_dblink2 t\n",
      "执行 =====>   s1msglatency_2017092020@do_dblink1 t\n",
      "执行 =====>   s1msglatency_2017092020@do_dblink2 t\n",
      "执行 =====>   s1msglatency_2017092021@do_dblink1 t\n",
      "执行 =====>   s1msglatency_2017092021@do_dblink2 t\n",
      "执行 =====>   s1msglatency_2017092022@do_dblink1 t\n",
      "执行 =====>   s1msglatency_2017092022@do_dblink2 t\n",
      "执行 =====>   s1msglatency_2017092023@do_dblink1 t\n",
      "执行 =====>   s1msglatency_2017092023@do_dblink2 t\n"
     ]
    }
   ],
   "source": [
    "#! /usr/bin/env python\n",
    "# -*- coding: utf-8 -*-\n",
    "\n",
    "import cx_Oracle\n",
    "import time\n",
    "import os\n",
    "\n",
    "def conndb(username, pwd, servername, ip, port,):\n",
    "#定义数据库连接，需要输入三个参数\n",
    "    username = username\n",
    "    pwd = pwd\n",
    "    tns = cx_Oracle.makedsn(ip, port, servername)\n",
    "    db = cx_Oracle.connect(username,pwd,tns)\n",
    "    return db\n",
    "\n",
    "def insert_db(db, sql):\n",
    "    cursor = db.cursor()\n",
    "    cursor.execute(sql)\n",
    "    cursor.close()\n",
    "    db.commit()\n",
    "\n",
    "def insert_db_p(db, sql, para):\n",
    "    cursor = db.cursor()\n",
    "    cursor.execute(sql, para)\n",
    "    cursor.close()\n",
    "    db.commit()\n",
    "    \n",
    "def delete_db(db, sql):\n",
    "    cursor = db.cursor()\n",
    "    cursor.execute(sql)\n",
    "    cursor.close()\n",
    "    \n",
    "def select_db(db, sql):\n",
    "    cursor = db.cursor()\n",
    "    cursor.execute(sql)\n",
    "    result = cursor.fetchall()\n",
    "    cursor.close()\n",
    "    return result\n",
    "\n",
    "def recored(path, name, state):\n",
    "    #f = open(r'C:\\Users\\yaol\\Desktop\\automatic_data_input.log', 'a')\n",
    "    now = time.strftime('%Y-%m-%d_%H:%M:%S',time.localtime(time.time()))\n",
    "    f = open(path, 'a')\n",
    "    f.write(now + ' ' + name + state + '\\n')\n",
    "    f.close()\n",
    "\n",
    "path = os.getcwd() + '\\FAST入库记录.log'\n",
    "#path = r'C:\\Users\\yaol\\Desktop\\automatic_data_input.log'\n",
    "\n",
    "try:\n",
    "    db = conndb('sqmdb', 'md00t', 'sqmmt', '192.156.8.95',1521)\n",
    "#     tns = cx_Oracle.makedsn('192.156.8.95',1521,'sqmmt')\n",
    "#     conn = cx_Oracle.connect('sqmdb','md00t',tns)\n",
    "\n",
    "    print (db.version)\n",
    "    recored(path, 'connect to fast database', ' =====>  Success')\n",
    "\n",
    "    # 提取系统时间 用于重组表名\n",
    "    select_sql = \"select to_char(sysdate - interval '1' day,'yyyymmdd') from dual\"\n",
    "    row = select_db(db, select_sql)\n",
    "    date_msg = '待入库数据日期：' +  row[0][0]\n",
    "    print(date_msg)\n",
    "    recored(path, date_msg, ' ')\n",
    "    #重组table name\n",
    "    for h in range(0, 24):\n",
    "        n = str(h)\n",
    "        s = n.zfill(2)  # 保证输出的数字为两位\n",
    "        for dblink in range(1, 3):\n",
    "            t_table = row[0][0] + s + '@do_dblink' + str(dblink) + ' t'  # 重组table name 格式如：2017091921@do_dblink1 t\n",
    "###########################################################\n",
    "            DO_S1MSGLATENCY = '''INSERT INTO DO_S1MSGLATENCY \n",
    "        select /*+ DRIVING_SITE(t) parallel(t 4)*/TRUNC(TS,'HH24') SDATE,'SHENYANG' CITY,ts, imsi, ci,floor(substr(ci,6)/256) enbid,\n",
    "        mod(substr(ci,6),256) cellid, decoderid, mme_ip, enb_ip, enbues1apid, mmeues1apid, tac, mtmsi,\n",
    "        imei, msg, latency, timeout, retrans, radionetworklayercause, transportlayercause, nascause, protocolcause,\n",
    "        misccause, nasesmcause, nasemmcause, succflag,1 SYSTEM_ID\n",
    "        from s1msglatency_{}; '''.format(t_table)\n",
    "###########################################################\n",
    "\n",
    "###########################################################\n",
    "            DO_S1DSS2 = '''INSERT INTO DO_S1DSS2\n",
    "select * from (select TRUNC(TS_START,'HH24') SDATE,'SHENYANG' CITY,MS_IMEI,IMSI,CI,BEARLAYERTYPE\n",
    ",SERVICETYPE,TS_START,URI,URI_PATH,USERAGENT,USERAGENTEXT,CONTENTTYPE,PAYLOAD_DL,PAYLOAD_UL,NULL LAT,NULL LON,1 SYSTEM_ID\n",
    "from s1dss2_{}\n",
    "where IMSI >0\n",
    ") a;'''.format(t_table)\n",
    "###########################################################\n",
    "            try:\n",
    "                print(\"执行 =====>  \", 's1msglatency_' + t_table)\n",
    "                insert_db(db, DO_S1MSGLATENCY)\n",
    "                s1msg = 's1msglatency_' + t_table\n",
    "                recored(path, s1msg, ' =====>  Success')\n",
    "                print(\"执行 =====>  \", 's1dss2_' + t_table)\n",
    "                insert_db(db, DO_S1DSS2)\n",
    "                s1dss2 = 's1dss2_' + t_table\n",
    "                recored(path, s1dss2, ' =====>  Success')\n",
    "            except:\n",
    "                recored(path, t_table, ' =====>  Fail')\n",
    "\n",
    "except:\n",
    "    recored(path, 'connect to fast database', ' =====>  Fail')\n",
    "recored(path, 'The program has been executed!', ' ')\n"
   ]
  },
  {
   "cell_type": "code",
   "execution_count": null,
   "metadata": {
    "collapsed": true
   },
   "outputs": [],
   "source": []
  },
  {
   "cell_type": "code",
   "execution_count": 24,
   "metadata": {
    "collapsed": false
   },
   "outputs": [
    {
     "name": "stdout",
     "output_type": "stream",
     "text": [
      "2017-09-20_17:18:59\n",
      "time.struct_time(tm_year=2017, tm_mon=9, tm_mday=20, tm_hour=17, tm_min=18, tm_sec=59, tm_wday=2, tm_yday=263, tm_isdst=0)\n"
     ]
    }
   ],
   "source": [
    "print (time.strftime('%Y-%m-%d_%H:%M:%S',time.localtime(time.time())))\n",
    "print (time.localtime(time.time()))"
   ]
  },
  {
   "cell_type": "code",
   "execution_count": 6,
   "metadata": {
    "collapsed": false
   },
   "outputs": [
    {
     "name": "stdout",
     "output_type": "stream",
     "text": [
      "C:\\Users\\yaol\\FAST入库记录.log\n"
     ]
    }
   ],
   "source": [
    "import os\n",
    "pwd = os.getcwd() + '\\FAST入库记录.log'\n",
    "print(pwd)"
   ]
  },
  {
   "cell_type": "code",
   "execution_count": 12,
   "metadata": {
    "collapsed": false
   },
   "outputs": [
    {
     "name": "stdout",
     "output_type": "stream",
     "text": [
      "11.2.0.4.0\n",
      "select to_char(sysdate - interval '1' day,'yyyymmdd') from dual\n"
     ]
    }
   ],
   "source": []
  },
  {
   "cell_type": "code",
   "execution_count": 11,
   "metadata": {
    "collapsed": false
   },
   "outputs": [],
   "source": [
    "#! /usr/bin/env python\n",
    "# -*- coding: utf-8 -*-\n",
    "\n",
    "import cx_Oracle\n",
    "import time\n",
    "import os\n",
    "\n",
    "def conndb(username, pwd, servername, ip, port,):\n",
    "#定义数据库连接，需要输入三个参数\n",
    "    username = username\n",
    "    pwd = pwd\n",
    "    tns = cx_Oracle.makedsn(ip, port, servername)\n",
    "    db = cx_Oracle.connect(username,pwd,tns)\n",
    "    return db\n",
    "\n",
    "def insert_db(db, sql):\n",
    "    cursor = db.cursor()\n",
    "    cursor.execute(sql)\n",
    "    cursor.close()\n",
    "    db.commit()\n",
    "\n",
    "def insert_db_p(db, sql, para):\n",
    "    cursor = db.cursor()\n",
    "    cursor.execute(sql, para)\n",
    "    cursor.close()\n",
    "    db.commit()\n",
    "    \n",
    "def delete_db(db, sql):\n",
    "    cursor = db.cursor()\n",
    "    cursor.execute(sql)\n",
    "    cursor.close()\n",
    "    \n",
    "def select_db(db, sql):\n",
    "    cursor = db.cursor()\n",
    "    cursor.execute(sql)\n",
    "    result = cursor.fetchall()\n",
    "    cursor.close()\n",
    "    return result\n",
    "\n",
    "def recored(path, name, state):\n",
    "    #f = open(r'C:\\Users\\yaol\\Desktop\\automatic_data_input.log', 'a')\n",
    "    now = time.strftime('%Y-%m-%d_%H:%M:%S',time.localtime(time.time()))\n",
    "    f = open(path, 'a')\n",
    "    f.write(now + ' ' + name + state + '\\n')\n",
    "    f.close()\n",
    "\n",
    "path = os.getcwd() + '\\FAST入库记录.log'\n",
    "#path = r'C:\\Users\\yaol\\Desktop\\automatic_data_input.log'\n"
   ]
  },
  {
   "cell_type": "code",
   "execution_count": 12,
   "metadata": {
    "collapsed": false
   },
   "outputs": [
    {
     "name": "stdout",
     "output_type": "stream",
     "text": [
      "11.2.0.4.0\n"
     ]
    }
   ],
   "source": [
    "db = conndb('sqmdb', 'md00t', 'sqmmt', '192.156.8.95',1521)\n",
    "#     tns = cx_Oracle.makedsn('192.156.8.95',1521,'sqmmt')\n",
    "#     conn = cx_Oracle.connect('sqmdb','md00t',tns)\n",
    "\n",
    "print (db.version)\n",
    "recored(path, 'connect to fast database', ' =====>  Success')"
   ]
  },
  {
   "cell_type": "code",
   "execution_count": 13,
   "metadata": {
    "collapsed": false
   },
   "outputs": [
    {
     "name": "stdout",
     "output_type": "stream",
     "text": [
      "待入库数据日期：20170924\n"
     ]
    }
   ],
   "source": [
    "select_sql = \"select to_char(sysdate - interval '1' day,'yyyymmdd') from dual\"\n",
    "row = select_db(db, select_sql)\n",
    "date_msg = '待入库数据日期：' +  row[0][0]\n",
    "print(date_msg)\n",
    "recored(path, date_msg, ' ')"
   ]
  },
  {
   "cell_type": "code",
   "execution_count": 18,
   "metadata": {
    "collapsed": false
   },
   "outputs": [
    {
     "name": "stdout",
     "output_type": "stream",
     "text": [
      "INSERT INTO yaoliang select * from (select TRUNC(TS_START,'HH24') SDATE, 'SHENYANG' CITY, MS_IMEI,IMSI,CI,BEARLAYERTYPE,\n",
      "        SERVICETYPE,TS_START,URI,URI_PATH,USERAGENT,USERAGENTEXT,CONTENTTYPE,PAYLOAD_DL,PAYLOAD_UL,NULL LAT,NULL LON, 1 SYSTEM_ID FROM \n",
      "        S1DSS2_2017092400@do_dblink1 t WHERE IMSI>0 AND ROWNUM < 10) a;\n"
     ]
    },
    {
     "ename": "DatabaseError",
     "evalue": "ORA-00911: invalid character",
     "output_type": "error",
     "traceback": [
      "\u001b[0;31m---------------------------------------------------------------------------\u001b[0m",
      "\u001b[0;31mDatabaseError\u001b[0m                             Traceback (most recent call last)",
      "\u001b[0;32m<ipython-input-18-ed895a62b469>\u001b[0m in \u001b[0;36m<module>\u001b[0;34m()\u001b[0m\n\u001b[1;32m     18\u001b[0m         \u001b[0mprint\u001b[0m\u001b[1;33m(\u001b[0m\u001b[0mDO_S1DSS2\u001b[0m\u001b[1;33m)\u001b[0m\u001b[1;33m\u001b[0m\u001b[0m\n\u001b[1;32m     19\u001b[0m         \u001b[0mcursor\u001b[0m \u001b[1;33m=\u001b[0m \u001b[0mdb\u001b[0m\u001b[1;33m.\u001b[0m\u001b[0mcursor\u001b[0m\u001b[1;33m(\u001b[0m\u001b[1;33m)\u001b[0m\u001b[1;33m\u001b[0m\u001b[0m\n\u001b[0;32m---> 20\u001b[0;31m         \u001b[0mcursor\u001b[0m\u001b[1;33m.\u001b[0m\u001b[0mexecute\u001b[0m\u001b[1;33m(\u001b[0m\u001b[0mDO_S1DSS2\u001b[0m\u001b[1;33m)\u001b[0m\u001b[1;33m\u001b[0m\u001b[0m\n\u001b[0m\u001b[1;32m     21\u001b[0m         \u001b[0mcursor\u001b[0m\u001b[1;33m.\u001b[0m\u001b[0mclose\u001b[0m\u001b[1;33m(\u001b[0m\u001b[1;33m)\u001b[0m\u001b[1;33m\u001b[0m\u001b[0m\n\u001b[1;32m     22\u001b[0m         \u001b[0mdb\u001b[0m\u001b[1;33m.\u001b[0m\u001b[0mcommit\u001b[0m\u001b[1;33m(\u001b[0m\u001b[1;33m)\u001b[0m\u001b[1;33m\u001b[0m\u001b[0m\n",
      "\u001b[0;31mDatabaseError\u001b[0m: ORA-00911: invalid character"
     ]
    }
   ],
   "source": [
    "for h in range(0, 24):\n",
    "    n = str(h)\n",
    "    s = n.zfill(2)  # 保证输出的数字为两位\n",
    "    for dblink in range(1, 3):\n",
    "        t_table = row[0][0] + s + '@do_dblink' + str(dblink) + ' t'  # 重组table name 格式如：2017091921@do_dblink1 t\n",
    "\n",
    "###########################################################\n",
    "#         DO_S1DSS2 = '''INSERT INTO yaoliang\n",
    "# select * from (select TRUNC(TS_START,'HH24') SDATE,'SHENYANG' CITY,MS_IMEI,IMSI,CI,BEARLAYERTYPE\n",
    "# ,SERVICETYPE,TS_START,URI,URI_PATH,USERAGENT,USERAGENTEXT,CONTENTTYPE,PAYLOAD_DL,PAYLOAD_UL,NULL LAT,NULL LON,1 SYSTEM_ID\n",
    "# from s1dss2_{}\n",
    "# where IMSI >0 and rownum < 10\n",
    "# ) a;'''.format(t_table)\n",
    "        DO_S1DSS2 = \"\"\"INSERT INTO yaoliang select * from (select TRUNC(TS_START,'HH24') SDATE, 'SHENYANG' CITY, MS_IMEI,IMSI,CI,BEARLAYERTYPE,\n",
    "        SERVICETYPE,TS_START,URI,URI_PATH,USERAGENT,USERAGENTEXT,CONTENTTYPE,PAYLOAD_DL,PAYLOAD_UL,NULL LAT,NULL LON, 1 SYSTEM_ID FROM \n",
    "        S1DSS2_{} WHERE IMSI>0 AND ROWNUM < 10) a\"\"\".format(t_table)\n",
    "###########################################################\n",
    "        print(DO_S1DSS2)\n",
    "        cursor = db.cursor()\n",
    "        cursor.execute(DO_S1DSS2)\n",
    "        cursor.close()\n",
    "        db.commit()        \n",
    "\n",
    "#         print(\"执行 =====>  \", 's1dss2_' + t_table)\n",
    "#         insert_db(db, DO_S1DSS2)\n",
    "#         s1dss2 = 's1dss2_' + t_table\n",
    "#         recored(path, s1dss2, ' =====>  Success')"
   ]
  },
  {
   "cell_type": "code",
   "execution_count": 2,
   "metadata": {
    "collapsed": false
   },
   "outputs": [
    {
     "name": "stdout",
     "output_type": "stream",
     "text": [
      "执行 =====>   s1msglatency_2017092700@do_dblink1 t\n",
      "执行 =====>   s1msglatency_2017092700@do_dblink2 t\n",
      "执行 =====>   s1msglatency_2017092701@do_dblink1 t\n",
      "执行 =====>   s1msglatency_2017092701@do_dblink2 t\n",
      "执行 =====>   s1msglatency_2017092702@do_dblink1 t\n",
      "执行 =====>   s1msglatency_2017092702@do_dblink2 t\n",
      "执行 =====>   s1msglatency_2017092703@do_dblink1 t\n",
      "执行 =====>   s1msglatency_2017092703@do_dblink2 t\n",
      "执行 =====>   s1msglatency_2017092704@do_dblink1 t\n",
      "执行 =====>   s1msglatency_2017092704@do_dblink2 t\n",
      "执行 =====>   s1msglatency_2017092705@do_dblink1 t\n",
      "执行 =====>   s1msglatency_2017092705@do_dblink2 t\n",
      "执行 =====>   s1msglatency_2017092706@do_dblink1 t\n",
      "执行 =====>   s1msglatency_2017092706@do_dblink2 t\n",
      "执行 =====>   s1msglatency_2017092707@do_dblink1 t\n",
      "执行 =====>   s1msglatency_2017092707@do_dblink2 t\n",
      "执行 =====>   s1msglatency_2017092708@do_dblink1 t\n",
      "执行 =====>   s1msglatency_2017092708@do_dblink2 t\n",
      "执行 =====>   s1msglatency_2017092709@do_dblink1 t\n",
      "执行 =====>   s1msglatency_2017092709@do_dblink2 t\n",
      "执行 =====>   s1msglatency_2017092710@do_dblink1 t\n",
      "执行 =====>   s1msglatency_2017092710@do_dblink2 t\n",
      "执行 =====>   s1msglatency_2017092711@do_dblink1 t\n",
      "执行 =====>   s1msglatency_2017092711@do_dblink2 t\n",
      "执行 =====>   s1msglatency_2017092712@do_dblink1 t\n",
      "执行 =====>   s1msglatency_2017092712@do_dblink2 t\n",
      "执行 =====>   s1msglatency_2017092713@do_dblink1 t\n",
      "执行 =====>   s1msglatency_2017092713@do_dblink2 t\n",
      "执行 =====>   s1msglatency_2017092714@do_dblink1 t\n",
      "执行 =====>   s1msglatency_2017092714@do_dblink2 t\n",
      "执行 =====>   s1msglatency_2017092715@do_dblink1 t\n",
      "执行 =====>   s1msglatency_2017092715@do_dblink2 t\n",
      "执行 =====>   s1msglatency_2017092716@do_dblink1 t\n",
      "执行 =====>   s1msglatency_2017092716@do_dblink2 t\n",
      "执行 =====>   s1msglatency_2017092717@do_dblink1 t\n",
      "执行 =====>   s1msglatency_2017092717@do_dblink2 t\n",
      "执行 =====>   s1msglatency_2017092718@do_dblink1 t\n",
      "执行 =====>   s1msglatency_2017092718@do_dblink2 t\n",
      "执行 =====>   s1msglatency_2017092719@do_dblink1 t\n",
      "执行 =====>   s1msglatency_2017092719@do_dblink2 t\n",
      "执行 =====>   s1msglatency_2017092720@do_dblink1 t\n",
      "执行 =====>   s1msglatency_2017092720@do_dblink2 t\n",
      "执行 =====>   s1msglatency_2017092721@do_dblink1 t\n",
      "执行 =====>   s1msglatency_2017092721@do_dblink2 t\n",
      "执行 =====>   s1msglatency_2017092722@do_dblink1 t\n",
      "执行 =====>   s1msglatency_2017092722@do_dblink2 t\n",
      "执行 =====>   s1msglatency_2017092723@do_dblink1 t\n",
      "执行 =====>   s1msglatency_2017092723@do_dblink2 t\n"
     ]
    }
   ],
   "source": [
    "#! /usr/bin/env python\n",
    "# -*- coding: utf-8 -*-\n",
    "\n",
    "import cx_Oracle\n",
    "import time\n",
    "import os\n",
    "\n",
    "def conndb(username, pwd, servername, ip, port,):\n",
    "#定义数据库连接，需要输入三个参数\n",
    "    username = username\n",
    "    pwd = pwd\n",
    "    tns = cx_Oracle.makedsn(ip, port, servername)\n",
    "    db = cx_Oracle.connect(username,pwd,tns)\n",
    "    return db\n",
    "\n",
    "def insert_db(db, sql):\n",
    "    cursor = db.cursor()\n",
    "    cursor.execute(sql)\n",
    "    cursor.close()\n",
    "    db.commit()\n",
    "\n",
    "def insert_db_p(db, sql, para):\n",
    "    cursor = db.cursor()\n",
    "    cursor.execute(sql, para)\n",
    "    cursor.close()\n",
    "    db.commit()\n",
    "    \n",
    "def delete_db(db, sql):\n",
    "    cursor = db.cursor()\n",
    "    cursor.execute(sql)\n",
    "    cursor.close()\n",
    "    \n",
    "def select_db(db, sql):\n",
    "    cursor = db.cursor()\n",
    "    cursor.execute(sql)\n",
    "    result = cursor.fetchall()\n",
    "    cursor.close()\n",
    "    return result\n",
    "\n",
    "def recored(path, name, state):\n",
    "    #f = open(r'C:\\Users\\yaol\\Desktop\\automatic_data_input.log', 'a')\n",
    "    now = time.strftime('%Y-%m-%d_%H:%M:%S',time.localtime(time.time()))\n",
    "    f = open(path, 'a')\n",
    "    f.write(now + ' ' + name + state + '\\n')\n",
    "    f.close()\n",
    "\n",
    "path = os.getcwd() + '\\FAST入库记录.log'\n",
    "#path = r'C:\\Users\\yaol\\Desktop\\automatic_data_input.log'\n",
    "\n",
    "try:\n",
    "#    db = conndb('sqmdb', 'md00t', 'sqmmt', '192.156.8.95',1521)\n",
    "    db = conndb('fast', 'F@st*123', 'FAST', '192.156.17.197',1521)\n",
    "#     tns = cx_Oracle.makedsn('192.156.8.95',1521,'sqmmt')\n",
    "#     conn = cx_Oracle.connect('sqmdb','md00t',tns)\n",
    "\n",
    "#    print (db.version)\n",
    "    recored(path, 'connect to fast database', ' =====>  Success')\n",
    "\n",
    "    # 提取系统时间 用于重组表名\n",
    "    select_sql = \"select to_char(sysdate - interval '1' day,'yyyymmdd') from dual\"\n",
    "    row = select_db(db, select_sql)\n",
    "    date_msg = '待入库数据日期：' +  row[0][0]\n",
    "#    print(date_msg)\n",
    "    recored(path, date_msg, ' ')\n",
    "    #重组table name\n",
    "    for h in range(0, 24):\n",
    "        n = str(h)\n",
    "        s = n.zfill(2)  # 保证输出的数字为两位\n",
    "        for dblink in range(1, 3):\n",
    "            t_table = row[0][0] + s + '@do_dblink' + str(dblink) + ' t'  # 重组table name 格式如：2017091921@do_dblink1 t\n",
    "###########################################################\n",
    "            DO_S1MSGLATENCY = '''INSERT INTO DO_S1MSGLATENCY \n",
    "        select /*+ DRIVING_SITE(t) parallel(t 4)*/TRUNC(TS,'HH24') SDATE,'SHENYANG' CITY,ts, imsi, ci,floor(substr(ci,6)/256) enbid,\n",
    "        mod(substr(ci,6),256) cellid, decoderid, mme_ip, enb_ip, enbues1apid, mmeues1apid, tac, mtmsi,\n",
    "        imei, msg, latency, timeout, retrans, radionetworklayercause, transportlayercause, nascause, protocolcause,\n",
    "        misccause, nasesmcause, nasemmcause, succflag,1 SYSTEM_ID\n",
    "        from s1msglatency_{} ;'''.format(t_table)\n",
    "###########################################################\n",
    "\n",
    "###########################################################\n",
    "            DO_S1DSS2 = '''INSERT INTO DO_S1DSS2\n",
    "select * from (select TRUNC(TS_START,'HH24') SDATE,'SHENYANG' CITY,MS_IMEI,IMSI,CI,BEARLAYERTYPE\n",
    ",SERVICETYPE,TS_START,URI,URI_PATH,USERAGENT,USERAGENTEXT,CONTENTTYPE,PAYLOAD_DL,PAYLOAD_UL,NULL LAT,NULL LON,1 SYSTEM_ID\n",
    "from s1dss2_{}\n",
    "where IMSI >0\n",
    ") a'''.format(t_table)\n",
    "###########################################################\n",
    "            try:\n",
    "                print(\"执行 =====>  \", 's1msglatency_' + t_table)\n",
    "                insert_db(db, DO_S1MSGLATENCY)\n",
    "                s1msg = 's1msglatency_' + t_table\n",
    "                recored(path, s1msg, ' =====>  Success')\n",
    "\n",
    "            except cx_Oracle.DatabaseError as msg:\n",
    "                recored(path, t_table, ' =====>  Fail  Error msg: {}'.format(msg))\n",
    "#            try:\n",
    "#                print(\"执行 =====>  \", 's1dss2_' + t_table)\n",
    "#                print (DO_S1DSS2)\n",
    "#                insert_db(db, DO_S1DSS2)\n",
    "#                s1dss2 = 's1dss2_' + t_table\n",
    "#                recored(path, s1dss2, ' =====>  Success')\n",
    "#            except:\n",
    "#                recored(path, t_table, ' =====>  Fail')\n",
    "                \n",
    "    count_sql_s1dss2 = \"select count(*) from DO_S1DSS2 WHERE sdate >= to_date('{}','yyyy-mm-dd') \".format(row[0][0])\n",
    "    count_sql_s1msg = \"select count(*) from DO_S1DSS2 WHERE sdate >= to_date('{}','yyyy-mm-dd') \".format(row[0][0])\n",
    "    try:\n",
    "        insert_count = select_db(db, count_sql_s1msg)\n",
    "        recored(path, '插入成功条数：',str(insert_count[0][0]))\n",
    "        insert_count = select_db(db, count_sql_s1dss2)\n",
    "        recored(path, '插入成功条数：',str(insert_count[0][0]))\n",
    "    except:\n",
    "        recored(path, '插入数据量提取失败', ' ')\n",
    " \n",
    "\n",
    "except:\n",
    "    recored(path, 'connect to fast database', ' =====>  Fail')\n",
    "recored(path, 'The program has been executed!', ' ')\n"
   ]
  },
  {
   "cell_type": "code",
   "execution_count": 1,
   "metadata": {
    "collapsed": false
   },
   "outputs": [
    {
     "name": "stdout",
     "output_type": "stream",
     "text": [
      "1506775166.1483548\n"
     ]
    }
   ],
   "source": [
    "import time\n",
    "\n",
    "print (time.time())"
   ]
  },
  {
   "cell_type": "code",
   "execution_count": 2,
   "metadata": {
    "collapsed": false
   },
   "outputs": [
    {
     "name": "stdout",
     "output_type": "stream",
     "text": [
      "time.struct_time(tm_year=2017, tm_mon=9, tm_mday=30, tm_hour=12, tm_min=39, tm_sec=35, tm_wday=5, tm_yday=273, tm_isdst=0)\n"
     ]
    }
   ],
   "source": [
    "print(time.gmtime())"
   ]
  },
  {
   "cell_type": "code",
   "execution_count": 3,
   "metadata": {
    "collapsed": false
   },
   "outputs": [
    {
     "data": {
      "text/plain": [
       "'Sat Sep 30 12:39:51 2017'"
      ]
     },
     "execution_count": 3,
     "metadata": {},
     "output_type": "execute_result"
    }
   ],
   "source": [
    "time.asctime(time.gmtime())"
   ]
  },
  {
   "cell_type": "code",
   "execution_count": 4,
   "metadata": {
    "collapsed": false
   },
   "outputs": [
    {
     "data": {
      "text/plain": [
       "time.struct_time(tm_year=2017, tm_mon=9, tm_mday=30, tm_hour=20, tm_min=40, tm_sec=1, tm_wday=5, tm_yday=273, tm_isdst=0)"
      ]
     },
     "execution_count": 4,
     "metadata": {},
     "output_type": "execute_result"
    }
   ],
   "source": [
    "time.localtime()"
   ]
  },
  {
   "cell_type": "code",
   "execution_count": 6,
   "metadata": {
    "collapsed": false
   },
   "outputs": [
    {
     "data": {
      "text/plain": [
       "'20170930 20:4101+China Standard Time'"
      ]
     },
     "execution_count": 6,
     "metadata": {},
     "output_type": "execute_result"
    }
   ],
   "source": [
    "time.strftime('%Y%m%d %H:%M%S+%Z')"
   ]
  },
  {
   "cell_type": "code",
   "execution_count": 9,
   "metadata": {
    "collapsed": false
   },
   "outputs": [
    {
     "data": {
      "text/plain": [
       "'2017-09-30'"
      ]
     },
     "execution_count": 9,
     "metadata": {},
     "output_type": "execute_result"
    }
   ],
   "source": [
    "time.strftime('%Y-%m-%d')"
   ]
  },
  {
   "cell_type": "code",
   "execution_count": 10,
   "metadata": {
    "collapsed": false
   },
   "outputs": [
    {
     "name": "stdout",
     "output_type": "stream",
     "text": [
      "fsafsa_2017-09-30\n"
     ]
    }
   ],
   "source": [
    "print('''fsafsa_{}'''.format(time.strftime('%Y-%m-%d')))"
   ]
  },
  {
   "cell_type": "code",
   "execution_count": 11,
   "metadata": {
    "collapsed": false
   },
   "outputs": [
    {
     "data": {
      "text/plain": [
       "datetime.date(2017, 9, 30)"
      ]
     },
     "execution_count": 11,
     "metadata": {},
     "output_type": "execute_result"
    }
   ],
   "source": [
    "import datetime\n",
    "\n",
    "datetime.date.today()"
   ]
  },
  {
   "cell_type": "code",
   "execution_count": 15,
   "metadata": {
    "collapsed": false
   },
   "outputs": [
    {
     "ename": "TypeError",
     "evalue": "'datetime.date' object is not callable",
     "output_type": "error",
     "traceback": [
      "\u001b[0;31m---------------------------------------------------------------------------\u001b[0m",
      "\u001b[0;31mTypeError\u001b[0m                                 Traceback (most recent call last)",
      "\u001b[0;32m<ipython-input-15-62a99e8819e6>\u001b[0m in \u001b[0;36m<module>\u001b[0;34m()\u001b[0m\n\u001b[1;32m      1\u001b[0m \u001b[0mtoday\u001b[0m \u001b[1;33m=\u001b[0m \u001b[0mdatetime\u001b[0m\u001b[1;33m.\u001b[0m\u001b[0mdate\u001b[0m\u001b[1;33m.\u001b[0m\u001b[0mtoday\u001b[0m\u001b[1;33m(\u001b[0m\u001b[1;33m)\u001b[0m\u001b[1;33m\u001b[0m\u001b[0m\n\u001b[0;32m----> 2\u001b[0;31m \u001b[0mprint\u001b[0m\u001b[1;33m(\u001b[0m\u001b[0mtoday\u001b[0m\u001b[1;33m.\u001b[0m\u001b[0mreplace\u001b[0m\u001b[1;33m(\u001b[0m\u001b[1;33m)\u001b[0m\u001b[1;33m(\u001b[0m\u001b[0mday\u001b[0m \u001b[1;33m=\u001b[0m \u001b[0mtoday\u001b[0m\u001b[1;33m.\u001b[0m\u001b[0mday\u001b[0m \u001b[1;33m-\u001b[0m \u001b[1;36m1\u001b[0m\u001b[1;33m)\u001b[0m\u001b[1;33m.\u001b[0m\u001b[0mstrftime\u001b[0m\u001b[1;33m(\u001b[0m\u001b[1;34m'%Y-%m-%d'\u001b[0m\u001b[1;33m)\u001b[0m\u001b[1;33m)\u001b[0m\u001b[1;33m\u001b[0m\u001b[0m\n\u001b[0m",
      "\u001b[0;31mTypeError\u001b[0m: 'datetime.date' object is not callable"
     ]
    }
   ],
   "source": [
    "today = datetime.date.today()\n",
    "print(today.replace()(day = today.day - 1).strftime('%Y-%m-%d'))"
   ]
  },
  {
   "cell_type": "code",
   "execution_count": 1,
   "metadata": {
    "collapsed": false
   },
   "outputs": [
    {
     "name": "stdout",
     "output_type": "stream",
     "text": [
      "2017-10-05\n",
      "21:04:58.098070\n",
      "2017-10-05 21:04:58.098070\n",
      "2017.10.04\n",
      "-365 days, 0:00:00\n"
     ]
    }
   ],
   "source": [
    "import datetime  \n",
    "print (datetime.date.today())  \n",
    "print (datetime.datetime.now().time() )\n",
    "print (datetime.datetime.now() ) \n",
    "  \n",
    "today = datetime.date.today()  \n",
    "next_year = today.replace(day = today.day - 1).strftime(\"%Y.%m.%d\")  \n",
    "print  (next_year ) \n",
    "  \n",
    "print (datetime.date(2000,2,29)-datetime.date(2001,2,28)  )"
   ]
  },
  {
   "cell_type": "code",
   "execution_count": 2,
   "metadata": {
    "collapsed": false
   },
   "outputs": [
    {
     "name": "stdout",
     "output_type": "stream",
     "text": [
      "1\n"
     ]
    }
   ],
   "source": [
    "print(today.day)"
   ]
  },
  {
   "cell_type": "code",
   "execution_count": 3,
   "metadata": {
    "collapsed": false
   },
   "outputs": [
    {
     "name": "stdout",
     "output_type": "stream",
     "text": [
      "2017-09-30\n"
     ]
    }
   ],
   "source": [
    "print(today-datetime.timedelta(days=1))"
   ]
  },
  {
   "cell_type": "code",
   "execution_count": 4,
   "metadata": {
    "collapsed": false
   },
   "outputs": [
    {
     "name": "stdout",
     "output_type": "stream",
     "text": [
      "2017-10-02\n"
     ]
    }
   ],
   "source": [
    "print(today+datetime.timedelta(days=1))"
   ]
  },
  {
   "cell_type": "code",
   "execution_count": 5,
   "metadata": {
    "collapsed": false
   },
   "outputs": [
    {
     "name": "stdout",
     "output_type": "stream",
     "text": [
      "afdjl_2017-09-30\n"
     ]
    }
   ],
   "source": [
    "print(\"\"\"afdjl_{}\"\"\".format(today-datetime.timedelta(days=1)))"
   ]
  },
  {
   "cell_type": "code",
   "execution_count": 9,
   "metadata": {
    "collapsed": false
   },
   "outputs": [
    {
     "name": "stdout",
     "output_type": "stream",
     "text": [
      "MERGE INTO travel_datebase_shiyi shiyi USING \n",
      "    (select to_char(a.t,'yyyy-mm-dd') sdate,a.imsi,b.area,\n",
      "    case when b.property_1 is null then 99 else b.property_1 end property_1,\n",
      "     case  when b.property_2 is null then 99 else b.property_2 end property_2\n",
      "    from do_s1message_lncuc_temp a,travel_datebase_yaoliang b \n",
      "    where \n",
      "    a.ci = b.eci and \n",
      "    a.t >= to_date('2017-09-30','yyyy-mm-dd')\n",
      "    group by  to_char(a.t,'yyyy-mm-dd'),a.imsi,b.area,b.property_1,b.property_2) c on \n",
      "    (shiyi.sdate = c.sdate and\n",
      "    shiyi.imsi = c.imsi and\n",
      "    shiyi.area = c.area and\n",
      "    shiyi.property_1 = c.property_1 and\n",
      "    shiyi.property_2 = c.property_2) when not matched then \n",
      "    insert (shiyi.sdate,shiyi.imsi,shiyi.area,shiyi.property_1,shiyi.property_2) \n",
      "    values (c.sdate,c.imsi,c.area,c.property_1,c.property_2) \n"
     ]
    }
   ],
   "source": [
    "input_day = today-datetime.timedelta(days=1)\n",
    "\n",
    "SHIYI = '''MERGE INTO travel_datebase_shiyi shiyi USING \n",
    "    (select to_char(a.t,'yyyy-mm-dd') sdate,a.imsi,b.area,\n",
    "    case when b.property_1 is null then 99 else b.property_1 end property_1,\n",
    "     case  when b.property_2 is null then 99 else b.property_2 end property_2\n",
    "    from do_s1message_lncuc_temp a,travel_datebase_yaoliang b \n",
    "    where \n",
    "    a.ci = b.eci and \n",
    "    a.t >= to_date('{}','yyyy-mm-dd')\n",
    "    group by  to_char(a.t,'yyyy-mm-dd'),a.imsi,b.area,b.property_1,b.property_2) c on \n",
    "    (shiyi.sdate = c.sdate and\n",
    "    shiyi.imsi = c.imsi and\n",
    "    shiyi.area = c.area and\n",
    "    shiyi.property_1 = c.property_1 and\n",
    "    shiyi.property_2 = c.property_2) when not matched then \n",
    "    insert (shiyi.sdate,shiyi.imsi,shiyi.area,shiyi.property_1,shiyi.property_2) \n",
    "    values (c.sdate,c.imsi,c.area,c.property_1,c.property_2) '''.format(input_day)\n",
    "\n",
    "print(SHIYI)"
   ]
  },
  {
   "cell_type": "code",
   "execution_count": 2,
   "metadata": {
    "collapsed": false
   },
   "outputs": [
    {
     "name": "stdout",
     "output_type": "stream",
     "text": [
      "2017100116  2017100117\n",
      "2017100121  2017100122\n",
      "2017100208  2017100209\n",
      "2017100208  2017100209\n",
      "2017100209  2017100210\n",
      "2017100212  2017100213\n",
      "2017100213  2017100214\n",
      "2017100214  2017100215\n",
      "2017100216  2017100217\n",
      "2017100217  2017100218\n",
      "2017100218  2017100219\n",
      "2017100221  2017100222\n",
      "2017100222  2017100223\n"
     ]
    }
   ],
   "source": [
    "abc = ['2017100116','2017100121','2017100208','2017100208','2017100209','2017100212','2017100213','2017100214',\n",
    "'2017100216','2017100217','2017100218','2017100221','2017100222']\n",
    "\n",
    "for aaa in abc:\n",
    "    print(aaa, '',str(int(aaa)+1))"
   ]
  },
  {
   "cell_type": "code",
   "execution_count": 6,
   "metadata": {
    "collapsed": false
   },
   "outputs": [
    {
     "name": "stdout",
     "output_type": "stream",
     "text": [
      "请输入需要补采的日期，格式为YYYYMMDDHH（多个时段使用英文逗号隔开）：123\n",
      "['123']\n"
     ]
    }
   ],
   "source": [
    "bbb = input('请输入需要补采的日期，格式为YYYYMMDDHH（多个时段使用英文逗号隔开）：')\n",
    "aaa = []\n",
    "for x in bbb.split(','):\n",
    "    aaa.append(x)\n",
    "print(aaa)"
   ]
  },
  {
   "cell_type": "code",
   "execution_count": null,
   "metadata": {
    "collapsed": true
   },
   "outputs": [],
   "source": []
  },
  {
   "cell_type": "code",
   "execution_count": null,
   "metadata": {
    "collapsed": true
   },
   "outputs": [],
   "source": []
  }
 ],
 "metadata": {
  "kernelspec": {
   "display_name": "Python 3",
   "language": "python",
   "name": "python3"
  },
  "language_info": {
   "codemirror_mode": {
    "name": "ipython",
    "version": 3
   },
   "file_extension": ".py",
   "mimetype": "text/x-python",
   "name": "python",
   "nbconvert_exporter": "python",
   "pygments_lexer": "ipython3",
   "version": "3.6.0"
  }
 },
 "nbformat": 4,
 "nbformat_minor": 2
}
